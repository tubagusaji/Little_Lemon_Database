{
 "cells": [
  {
   "cell_type": "code",
   "execution_count": 4,
   "id": "e75a6d63",
   "metadata": {},
   "outputs": [],
   "source": [
    "import mysql.connector as connector"
   ]
  },
  {
   "cell_type": "code",
   "execution_count": 17,
   "id": "329cbd3b",
   "metadata": {},
   "outputs": [],
   "source": [
    "connection = connector.connect(database='db-capstone', host='192.168.44.164', user='emma',  password='Emma12nuel!')"
   ]
  },
  {
   "cell_type": "code",
   "execution_count": 35,
   "id": "feb2529f",
   "metadata": {},
   "outputs": [],
   "source": [
    "show_tables_query = 'select * from Orders'"
   ]
  },
  {
   "cell_type": "code",
   "execution_count": 36,
   "id": "6899b6a0",
   "metadata": {},
   "outputs": [],
   "source": [
    "cursor = connection.cursor()"
   ]
  },
  {
   "cell_type": "code",
   "execution_count": 37,
   "id": "b345f030",
   "metadata": {},
   "outputs": [],
   "source": [
    "cursor.execute(show_tables_query)"
   ]
  },
  {
   "cell_type": "code",
   "execution_count": 38,
   "id": "f676e84a",
   "metadata": {},
   "outputs": [],
   "source": [
    "result = cursor.fetchall()"
   ]
  },
  {
   "cell_type": "code",
   "execution_count": 39,
   "id": "5bdc63d3",
   "metadata": {},
   "outputs": [
    {
     "name": "stdout",
     "output_type": "stream",
     "text": [
      "('DeliveryID', 'OrderID', 'MenuID', 'BookingID', 'Cost', 'Quantity', 'OrderDate')\n"
     ]
    }
   ],
   "source": [
    "print(cursor.column_names)"
   ]
  },
  {
   "cell_type": "code",
   "execution_count": 34,
   "id": "4521fcfe",
   "metadata": {},
   "outputs": [
    {
     "name": "stdout",
     "output_type": "stream",
     "text": [
      "[('DeliveryID', b'int', 'NO', 'PRI', None, 'auto_increment'), ('OrderID', b'int', 'NO', 'MUL', None, ''), ('MenuID', b'int', 'NO', 'MUL', None, ''), ('BookingID', b'int', 'NO', 'MUL', None, ''), ('Cost', b'decimal(10,2)', 'NO', '', None, ''), ('Quantity', b'int', 'NO', '', None, ''), ('OrderDate', b'date', 'NO', '', None, '')]\n"
     ]
    }
   ],
   "source": [
    "print(result)"
   ]
  },
  {
   "cell_type": "code",
   "execution_count": 22,
   "id": "01ab0e56",
   "metadata": {},
   "outputs": [
    {
     "name": "stdout",
     "output_type": "stream",
     "text": [
      "[('Bookings',), ('Customers',), ('Delivery',), ('Menu',), ('MenuItem',), ('Orders',), ('OrdersView',)]\n"
     ]
    }
   ],
   "source": [
    "print(result)"
   ]
  },
  {
   "cell_type": "code",
   "execution_count": 40,
   "id": "1af4fa31",
   "metadata": {},
   "outputs": [],
   "source": [
    "task3query = \"\"\"\n",
    "select cus.FullName, cus.ContactNumber, ord.Cost from Customers as cus\n",
    "inner join \n",
    "Orders as ord\n",
    "where ord.Cost > 60\n",
    "\"\"\""
   ]
  },
  {
   "cell_type": "code",
   "execution_count": 41,
   "id": "6f557027",
   "metadata": {},
   "outputs": [],
   "source": [
    "cursor.execute(task3query)"
   ]
  },
  {
   "cell_type": "code",
   "execution_count": 42,
   "id": "c92ee67f",
   "metadata": {},
   "outputs": [],
   "source": [
    "result = cursor.fetchall()"
   ]
  },
  {
   "cell_type": "code",
   "execution_count": 43,
   "id": "b2bb6055",
   "metadata": {},
   "outputs": [
    {
     "name": "stdout",
     "output_type": "stream",
     "text": [
      "[]\n"
     ]
    }
   ],
   "source": [
    "print(result)"
   ]
  },
  {
   "cell_type": "code",
   "execution_count": null,
   "id": "44c8285d",
   "metadata": {},
   "outputs": [],
   "source": []
  }
 ],
 "metadata": {
  "kernelspec": {
   "display_name": "Python 3 (ipykernel)",
   "language": "python",
   "name": "python3"
  },
  "language_info": {
   "codemirror_mode": {
    "name": "ipython",
    "version": 3
   },
   "file_extension": ".py",
   "mimetype": "text/x-python",
   "name": "python",
   "nbconvert_exporter": "python",
   "pygments_lexer": "ipython3",
   "version": "3.9.13"
  }
 },
 "nbformat": 4,
 "nbformat_minor": 5
}
